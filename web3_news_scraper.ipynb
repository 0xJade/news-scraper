{
 "cells": [
  {
   "cell_type": "markdown",
   "id": "6cd48437-248a-4e41-b084-db9cf19af9f7",
   "metadata": {},
   "source": [
    "# Ecosystem Report\n",
    "\n",
    "This report aims to scrape blogs and summarize news, generate proposals for how we can present research ideas"
   ]
  },
  {
   "cell_type": "code",
   "execution_count": 3,
   "id": "ec206ec4-eafb-449c-a704-46d599caee9e",
   "metadata": {},
   "outputs": [
    {
     "name": "stderr",
     "output_type": "stream",
     "text": [
      "2025-09-01 22:05:20,864 - INFO - Attempting to find RSS feed for Flow blog...\n",
      "2025-09-01 22:05:21,401 - WARNING - No RSS feed found for Flow blog\n",
      "2025-09-01 22:05:21,403 - INFO - \n",
      "==================================================\n",
      "2025-09-01 22:05:21,403 - INFO - Processing source: ethereum_blog\n",
      "2025-09-01 22:05:21,403 - INFO - URL: https://blog.ethereum.org/feed.xml\n",
      "2025-09-01 22:05:21,404 - INFO - Testing URL accessibility for ethereum_blog: https://blog.ethereum.org/feed.xml\n",
      "2025-09-01 22:05:23,700 - INFO - ethereum_blog - Status Code: 200\n",
      "2025-09-01 22:05:23,702 - INFO - ethereum_blog - Content-Type: application/xml\n",
      "2025-09-01 22:05:23,703 - INFO - ethereum_blog - Content Length: 481138 bytes\n",
      "2025-09-01 22:05:23,704 - INFO - Parsing feed for ethereum_blog...\n",
      "2025-09-01 22:05:24,428 - INFO - Analyzing feed structure for ethereum_blog\n",
      "2025-09-01 22:05:24,428 - INFO - Processing 584 entries from ethereum_blog\n",
      "2025-09-01 22:05:24,428 - INFO - Added upgrade-related article from ethereum_blog: Holešky Testnet Shutdown Announcement\n",
      "2025-09-01 22:05:24,429 - INFO - Added upgrade-related article from ethereum_blog: Protocol Update 003 — Improve UX\n",
      "2025-09-01 22:05:24,429 - INFO - \n",
      "==================================================\n",
      "2025-09-01 22:05:24,429 - INFO - Processing source: arbitrum_medium\n",
      "2025-09-01 22:05:24,429 - INFO - URL: https://medium.com/feed/@arbitrum\n",
      "2025-09-01 22:05:24,429 - INFO - Testing URL accessibility for arbitrum_medium: https://medium.com/feed/@arbitrum\n",
      "2025-09-01 22:05:24,705 - INFO - arbitrum_medium - Status Code: 200\n",
      "2025-09-01 22:05:24,706 - INFO - arbitrum_medium - Content-Type: text/xml; charset=UTF-8\n",
      "2025-09-01 22:05:24,707 - INFO - arbitrum_medium - Content Length: 17843 bytes\n",
      "2025-09-01 22:05:24,710 - INFO - Parsing feed for arbitrum_medium...\n",
      "2025-09-01 22:05:24,981 - INFO - Analyzing feed structure for arbitrum_medium\n",
      "2025-09-01 22:05:24,982 - INFO - Processing 7 entries from arbitrum_medium\n",
      "2025-09-01 22:05:24,985 - INFO - Added upgrade-related article from arbitrum_medium: Most profitable SushiSwap liquidity pool ArbiFLUX-ETH — 162.44% APY\n",
      "2025-09-01 22:05:24,986 - INFO - Added upgrade-related article from arbitrum_medium: Binance, Arbitrum One Integration, Datamine Network\n",
      "2025-09-01 22:05:24,986 - INFO - \n",
      "==================================================\n",
      "2025-09-01 22:05:24,987 - INFO - Total articles found: 4\n"
     ]
    },
    {
     "name": "stdout",
     "output_type": "stream",
     "text": [
      "\n",
      "============================================================\n",
      "FINAL RESULTS SUMMARY\n",
      "============================================================\n",
      "\n",
      "Source: ethereum_blog\n",
      "Title: Holešky Testnet Shutdown Announcement\n",
      "Date: Mon, 01 Sep 2025 00:00:00 GMT\n",
      "Link: https://blog.ethereum.org/en/2025/09/01/holesky-shutdown-announcement\n",
      "----------------------------------------\n",
      "\n",
      "Source: ethereum_blog\n",
      "Title: Protocol Update 003 — Improve UX\n",
      "Date: Fri, 29 Aug 2025 00:00:00 GMT\n",
      "Link: https://blog.ethereum.org/en/2025/08/29/protocol-update-003\n",
      "----------------------------------------\n",
      "\n",
      "Source: arbitrum_medium\n",
      "Title: Most profitable SushiSwap liquidity pool ArbiFLUX-ETH — 162.44% APY\n",
      "Date: Wed, 15 Dec 2021 01:20:00 GMT\n",
      "Link: https://arbitrum.medium.com/most-profitable-sushiswap-liquidity-pool-arbiflux-eth-162-44-apy-8b717e5e7b2d?source=rss-8cf0900f966a------2\n",
      "----------------------------------------\n",
      "\n",
      "Source: arbitrum_medium\n",
      "Title: Binance, Arbitrum One Integration, Datamine Network\n",
      "Date: Sat, 20 Nov 2021 00:56:29 GMT\n",
      "Link: https://arbitrum.medium.com/binance-arbitrum-one-integration-datamine-network-a2998644367c?source=rss-8cf0900f966a------2\n",
      "----------------------------------------\n"
     ]
    }
   ],
   "source": [
    "from blockchain_news_scraper import BlockchainNewsScraper\n",
    "\n",
    "scraper = BlockchainNewsScraper()\n",
    "flow_rss = scraper.get_flow_blog_rss()\n",
    "articles = scraper.scrape_rss_feeds()\n",
    "\n",
    "# Print results summary\n",
    "print(f\"\\n{'='*60}\")\n",
    "print(\"FINAL RESULTS SUMMARY\")\n",
    "print(f\"{'='*60}\")\n",
    "\n",
    "if articles:\n",
    "    for article in articles:\n",
    "        print(f\"\\nSource: {article['source']}\")\n",
    "        print(f\"Title: {article['title']}\")\n",
    "        print(f\"Date: {article['date']}\")\n",
    "        print(f\"Link: {article['link']}\")\n",
    "        print(\"-\" * 40)\n",
    "else:\n",
    "    print(\"No upgrade-related articles found.\")"
   ]
  },
  {
   "cell_type": "markdown",
   "id": "0ef5c133-1b7b-4c2d-9784-a061b2b0c7c3",
   "metadata": {},
   "source": [
    "# Feed into AI\n",
    "\n",
    "Now that we have articles, we can feed this into AI to generate ideas. First we will import our claude API key"
   ]
  },
  {
   "cell_type": "code",
   "execution_count": 21,
   "id": "90e46ce1-19be-419c-b4cf-bf9fb8721f39",
   "metadata": {},
   "outputs": [],
   "source": [
    "from dotenv import load_dotenv\n",
    "import os\n",
    "import anthropic\n",
    "\n",
    "load_dotenv()\n",
    "\n",
    "# Claude Related Variables\n",
    "api_key = os.getenv('ANTHROPIC_API_KEY')\n",
    "model = os.getenv('ANTHROPIC_MODEL')\n",
    "\n",
    "# Email Related Variables\n",
    "email_user = os.getenv('EMAIL_USER')\n",
    "\n",
    "\n",
    "client = anthropic.Anthropic()\n",
    "articles[0].get('article_summary')\n",
    "\n",
    "for a in articles:\n",
    "    summary = a.get('article_summary', None)\n",
    "\n",
    "    print(summary)\n",
    "    \n",
    "    if summary:\n",
    "        message = client.messages.create(\n",
    "            model=model,\n",
    "            max_tokens=1000,\n",
    "            messages=[\n",
    "                {\n",
    "                    \"role\": \"user\",\n",
    "                    \"content\": f\"As a research agency experienced in user research can you take the content of this article and generate a proposal idea to perform user research?: {summary}\"\n",
    "                }\n",
    "            ]\n",
    "        )\n",
    "    \n",
    "        a['summary'] = message.content[0].text\n",
    "\n",
    "    else:\n",
    "        print(\"No content in article!\")\n"
   ]
  },
  {
   "cell_type": "markdown",
   "id": "0718ab0c-3a59-4c9b-9af8-18cdb26d3630",
   "metadata": {},
   "source": [
    "# Generate Report for Proposal Ideation"
   ]
  },
  {
   "cell_type": "code",
   "execution_count": 2,
   "id": "2e8435ba-3d1c-48ab-a44c-df726b4cf6bc",
   "metadata": {},
   "outputs": [
    {
     "name": "stdout",
     "output_type": "stream",
     "text": [
      "No articles found. Please run the scraper first.\n"
     ]
    }
   ],
   "source": [
    "import json\n",
    "from pdf_generator import generate_enhanced_news_pdf\n",
    "\n",
    "# Import Article Test Data\n",
    "# with open('articles_test.json', 'r') as file:\n",
    "#     articles = json.load(file)\n",
    "\n",
    "# Import and generate PDF report\n",
    "if 'articles' in locals() and articles:\n",
    "    pdf_path = generate_enhanced_news_pdf(articles)\n",
    "    print(f\"PDF saved to: {pdf_path}\")\n",
    "else:\n",
    "    print(\"No articles found. Please run the scraper first.\")"
   ]
  },
  {
   "cell_type": "markdown",
   "id": "eabbf2fa-2643-42a5-8db2-1e0c14d88b51",
   "metadata": {},
   "source": [
    "# Send PDF in email to recipients"
   ]
  },
  {
   "cell_type": "code",
   "execution_count": 1,
   "id": "4019dee5-2bce-4685-8e33-ced2ba424a2c",
   "metadata": {},
   "outputs": [
    {
     "name": "stdout",
     "output_type": "stream",
     "text": [
      "✅ Email sent successfully to krclyne@gmail.com\n",
      "Email sent successfully!\n"
     ]
    }
   ],
   "source": [
    "from email_sender import EmailSender\n",
    "\n",
    "sender = EmailSender()\n",
    "email_user = 'krclyne@gmail.com'\n",
    "\n",
    "# Send a simple text email with PDF attachment\n",
    "success = sender.send_simple_email(\n",
    "    to=email_user,\n",
    "    subject=\"Test Email with PDF\",\n",
    "    message=\"Hello! Please find the attached PDF.\",\n",
    "    attachments=\"web3_news_scraper.pdf\"\n",
    ")\n",
    "\n",
    "if success:\n",
    "    print(\"Email sent successfully!\")\n",
    "else:\n",
    "    print(\"Failed to send email.\")"
   ]
  },
  {
   "cell_type": "code",
   "execution_count": 4,
   "id": "902af565-9491-4ebd-a477-14d52d7c7930",
   "metadata": {},
   "outputs": [
    {
     "name": "stdout",
     "output_type": "stream",
     "text": [
      "🔍 Testing SMTP connection to smtp.gmail.com:587...\n",
      "❌ Authentication failed: Check your EMAIL_USER and EMAIL_PASSWORD\n"
     ]
    },
    {
     "data": {
      "text/plain": [
       "False"
      ]
     },
     "execution_count": 4,
     "metadata": {},
     "output_type": "execute_result"
    }
   ],
   "source": [
    "sender.test_connection()"
   ]
  },
  {
   "cell_type": "code",
   "execution_count": null,
   "id": "c62342cf-5a49-4886-b938-df8c1167446c",
   "metadata": {},
   "outputs": [],
   "source": []
  },
  {
   "cell_type": "code",
   "execution_count": null,
   "id": "84e971bd-cea4-458d-8a13-66d4293b5b76",
   "metadata": {},
   "outputs": [],
   "source": []
  }
 ],
 "metadata": {
  "kernelspec": {
   "display_name": "News Scraper",
   "language": "python",
   "name": "news_scraper_env"
  },
  "language_info": {
   "codemirror_mode": {
    "name": "ipython",
    "version": 3
   },
   "file_extension": ".py",
   "mimetype": "text/x-python",
   "name": "python",
   "nbconvert_exporter": "python",
   "pygments_lexer": "ipython3",
   "version": "3.12.11"
  }
 },
 "nbformat": 4,
 "nbformat_minor": 5
}
