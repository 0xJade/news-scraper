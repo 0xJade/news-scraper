{
 "cells": [
  {
   "cell_type": "markdown",
   "id": "6cd48437-248a-4e41-b084-db9cf19af9f7",
   "metadata": {},
   "source": [
    "# Ecosystem Report\n",
    "\n",
    "This report aims to scrape blogs and summarize news, generate proposals for how we can present research ideas"
   ]
  },
  {
   "cell_type": "code",
   "execution_count": 9,
   "id": "ec206ec4-eafb-449c-a704-46d599caee9e",
   "metadata": {},
   "outputs": [
    {
     "name": "stderr",
     "output_type": "stream",
     "text": [
      "2025-09-01 22:17:18,691 - INFO - Attempting to find RSS feed for Flow blog...\n",
      "2025-09-01 22:17:19,064 - WARNING - No RSS feed found for Flow blog\n",
      "2025-09-01 22:17:19,066 - INFO - \n",
      "==================================================\n",
      "2025-09-01 22:17:19,067 - INFO - Processing source: ethereum_blog\n",
      "2025-09-01 22:17:19,067 - INFO - URL: https://blog.ethereum.org/feed.xml\n",
      "2025-09-01 22:17:19,068 - INFO - Testing URL accessibility for ethereum_blog: https://blog.ethereum.org/feed.xml\n",
      "2025-09-01 22:17:19,519 - INFO - ethereum_blog - Status Code: 200\n",
      "2025-09-01 22:17:19,520 - INFO - ethereum_blog - Content-Type: application/xml\n",
      "2025-09-01 22:17:19,521 - INFO - ethereum_blog - Content Length: 481138 bytes\n",
      "2025-09-01 22:17:19,521 - INFO - Parsing feed for ethereum_blog...\n",
      "2025-09-01 22:17:20,182 - INFO - Analyzing feed structure for ethereum_blog\n",
      "2025-09-01 22:17:20,182 - INFO - Processing 584 entries from ethereum_blog\n",
      "2025-09-01 22:17:20,183 - INFO - Added upgrade-related article from ethereum_blog: Holešky Testnet Shutdown Announcement\n",
      "2025-09-01 22:17:20,183 - INFO - Added upgrade-related article from ethereum_blog: Protocol Update 003 — Improve UX\n",
      "2025-09-01 22:17:20,183 - INFO - \n",
      "==================================================\n",
      "2025-09-01 22:17:20,183 - INFO - Processing source: arbitrum_medium\n",
      "2025-09-01 22:17:20,183 - INFO - URL: https://medium.com/feed/@arbitrum\n",
      "2025-09-01 22:17:20,183 - INFO - Testing URL accessibility for arbitrum_medium: https://medium.com/feed/@arbitrum\n",
      "2025-09-01 22:17:20,366 - INFO - arbitrum_medium - Status Code: 200\n",
      "2025-09-01 22:17:20,367 - INFO - arbitrum_medium - Content-Type: text/xml; charset=UTF-8\n",
      "2025-09-01 22:17:20,368 - INFO - arbitrum_medium - Content Length: 17843 bytes\n",
      "2025-09-01 22:17:20,369 - INFO - Parsing feed for arbitrum_medium...\n",
      "2025-09-01 22:17:20,588 - INFO - Analyzing feed structure for arbitrum_medium\n",
      "2025-09-01 22:17:20,589 - INFO - Processing 7 entries from arbitrum_medium\n",
      "2025-09-01 22:17:20,589 - INFO - Added upgrade-related article from arbitrum_medium: Most profitable SushiSwap liquidity pool ArbiFLUX-ETH — 162.44% APY\n",
      "2025-09-01 22:17:20,590 - INFO - Added upgrade-related article from arbitrum_medium: Binance, Arbitrum One Integration, Datamine Network\n",
      "2025-09-01 22:17:20,590 - INFO - \n",
      "==================================================\n",
      "2025-09-01 22:17:20,591 - INFO - Total articles found: 4\n"
     ]
    },
    {
     "name": "stdout",
     "output_type": "stream",
     "text": [
      "\n",
      "============================================================\n",
      "FINAL RESULTS SUMMARY\n",
      "============================================================\n",
      "\n",
      "Source: ethereum_blog\n",
      "Title: Holešky Testnet Shutdown Announcement\n",
      "Date: Mon, 01 Sep 2025 00:00:00 GMT\n",
      "Link: https://blog.ethereum.org/en/2025/09/01/holesky-shutdown-announcement\n",
      "Summary: As previously announced, the Holešky testnet has reached its planned end-of-life date and will be sunset shortly. The vast majority of remaining validator nodes will be shut down 2 weeks after the Fusaka upgrade has finalized on Holešky. After this, Holešky will no longer be supported by client, testing or...\n",
      "----------------------------------------\n",
      "\n",
      "Source: ethereum_blog\n",
      "Title: Protocol Update 003 — Improve UX\n",
      "Date: Fri, 29 Aug 2025 00:00:00 GMT\n",
      "Link: https://blog.ethereum.org/en/2025/08/29/protocol-update-003\n",
      "Summary: A few months ago, we announced a renewed focus of Protocol on three strategic initiatives: Scale L1, Scale blobs, Improve UX. Following previous updates on Scale L1 and Scale blobs, this note relates to our “Improve UX” track, and its mission:  **Seamless, secure and permissionless experience across the Ethereum...\n",
      "----------------------------------------\n",
      "\n",
      "Source: arbitrum_medium\n",
      "Title: Most profitable SushiSwap liquidity pool ArbiFLUX-ETH — 162.44% APY\n",
      "Date: Wed, 15 Dec 2021 01:20:00 GMT\n",
      "Link: https://arbitrum.medium.com/most-profitable-sushiswap-liquidity-pool-arbiflux-eth-162-44-apy-8b717e5e7b2d?source=rss-8cf0900f966a------2\n",
      "Summary: <h3>Most profitable SushiSwap liquidity pool ArbiFLUX-ETH — 162.44% APY</h3><blockquote>Transaction-incentivized Liquidity Pools (Monetary Velocity). Decentralizing inflation. On Arbitrum.</blockquote><p>Just a month after launch, <a href=\"https://analytics-arbitrum.sushi.com/tokens/0x64081252c497fcfec247a664e9d10ca8ed71b276\"><strong>ArbiFLUX-ETH</strong></a> has become the most profitable <em>APY</em> pool on <strong>SushiSwap</strong> (Arbitrum Layer). 🎉</p><figure><img alt=\"\" src=\"https://cdn-images-1.medium.com/max/1024/1*d8zq50iv-YSY7lIC90uxrw.png\" /></figure><p>So far there have been 1,222 ArbiFLUX ‘high monetary velocity’ transfers. This throughput involves the ArbiFLUX/ETH and ArbiFLUX/FLUX liquidity pools on SushiSwap, which means amazing rewards (162% APY) for Liquidity Providers.</p><p>Also, 60% of the total ArbiFLUX supply has been burned by the community to counteract inflation using ArbiFLUX purchased from these pools. The market cap of ArbiFLUX just reached $20,000 USD, which is backed by $340,000 USD of L2 FLUX powering user-controlled ArbiFLUX Mints.</p><figure><img alt=\"\" src=\"https://cdn-images-1.medium.com/max/1024/1*Hpjzg9rmcriv7rp-jUnZcg.png\" /></figure><p><strong>ArbiFLUX</strong> is a <strong>v2 currency</strong> that retains value while fulfilling the following criteria: transportability, utility, divisibility, scarcity, and durability.</p><p>Visit <a href=\"https://datamine-crypto.github.io/datamine-pro-portal/#/dashboard\">datamine.network</a> to start your own ArbiFLUX Mint.</p><p><strong>ArbiFLUX price tracker</strong>:</p><p><a href=\"https://www.defined.fi/arb/0xbf719d56c5f19ae0833adc4080befc48a9b415b5\">ArbiFLUX/WETH | $24.9273 | Defined</a></p><p><strong>Join Datamine in Discord</strong>:</p><p><a href=\"https://discord.me/dataminenetwork\">Datamine Network Discord Server</a></p><img alt=\"\" height=\"1\" src=\"https://medium.com/_/stat?event=post.clientViewed&amp;referrerSource=full_rss&amp;postId=8b717e5e7b2d\" width=\"1\" />\n",
      "----------------------------------------\n",
      "\n",
      "Source: arbitrum_medium\n",
      "Title: Binance, Arbitrum One Integration, Datamine Network\n",
      "Date: Sat, 20 Nov 2021 00:56:29 GMT\n",
      "Link: https://arbitrum.medium.com/binance-arbitrum-one-integration-datamine-network-a2998644367c?source=rss-8cf0900f966a------2\n",
      "Summary: <p><strong>Binance</strong> has completed the integration of Arbitrum One Layer 2 Mainnet, a scaling solution for the Ethereum network (that has lower costs and faster transactions than on the Ethereum Mainnet).</p><figure><img alt=\"\" src=\"https://cdn-images-1.medium.com/max/1024/0*UHtKCPCG6ja2IE5i.jpg\" /></figure><p>This move will allow projects like <a href=\"https://datamine-crypto.github.io/datamine-pro-portal/#/dashboard\"><strong>datamine.network</strong></a> to take full advantage of lower gas fees and instant transactions.</p><p><strong>$DAM</strong> price has already doubled from $0.10 to $0.21</p><ul><li>$FLUX (L1) has increased from $0.62 to $1.08</li><li>$FLUX (L2) has increased from $0.70 to $0.90</li><li>Newly launched ArbiFLUX is trading from $50 — $160 (pretty volatile due to low liquidity)</li></ul><p>All time high DAM Powering Mints (80.38%): $ 2,911,954 USD is locked on L1 to generate FLUX.</p><ul><li>Total DAM supply is 16,876,778; only 3,310,515 tokens in circulation.</li></ul><p>369,588.28 FLUX / $ 334,169.55 USDC (92.54% of L2 supply) is locked on L2, to generate ArbiFLUX.</p><p>Current APY:</p><ul><li>L1 layer (Ethereum): 30%</li><li>L2 layer (Arbitrum): 700% (should normalize as more ArbiFLUX is minted).</li></ul><p>Until next time.</p><img alt=\"\" height=\"1\" src=\"https://medium.com/_/stat?event=post.clientViewed&amp;referrerSource=full_rss&amp;postId=a2998644367c\" width=\"1\" />\n",
      "----------------------------------------\n"
     ]
    }
   ],
   "source": [
    "from blockchain_news_scraper import BlockchainNewsScraper\n",
    "\n",
    "scraper = BlockchainNewsScraper()\n",
    "flow_rss = scraper.get_flow_blog_rss()\n",
    "articles = scraper.scrape_rss_feeds()\n",
    "\n",
    "# Print results summary\n",
    "print(f\"\\n{'='*60}\")\n",
    "print(\"FINAL RESULTS SUMMARY\")\n",
    "print(f\"{'='*60}\")\n",
    "\n",
    "if articles:\n",
    "    for article in articles:\n",
    "        print(f\"\\nSource: {article['source']}\")\n",
    "        print(f\"Title: {article['title']}\")\n",
    "        print(f\"Date: {article['date']}\")\n",
    "        print(f\"Link: {article['link']}\")\n",
    "        print(f\"Summary: {article['summary']}\")\n",
    "        print(\"-\" * 40)\n",
    "else:\n",
    "    print(\"No upgrade-related articles found.\")"
   ]
  },
  {
   "cell_type": "markdown",
   "id": "0ef5c133-1b7b-4c2d-9784-a061b2b0c7c3",
   "metadata": {},
   "source": [
    "# Feed into AI\n",
    "\n",
    "Now that we have articles, we can feed this into AI to generate ideas. First we will import our claude API key"
   ]
  },
  {
   "cell_type": "code",
   "execution_count": 11,
   "id": "90e46ce1-19be-419c-b4cf-bf9fb8721f39",
   "metadata": {},
   "outputs": [
    {
     "name": "stdout",
     "output_type": "stream",
     "text": [
      "As previously announced, the Holešky testnet has reached its planned end-of-life date and will be sunset shortly. The vast majority of remaining validator nodes will be shut down 2 weeks after the Fusaka upgrade has finalized on Holešky. After this, Holešky will no longer be supported by client, testing or...\n"
     ]
    },
    {
     "name": "stderr",
     "output_type": "stream",
     "text": [
      "2025-09-01 22:18:40,409 - INFO - HTTP Request: POST https://api.anthropic.com/v1/messages \"HTTP/1.1 200 OK\"\n"
     ]
    },
    {
     "name": "stdout",
     "output_type": "stream",
     "text": [
      "A few months ago, we announced a renewed focus of Protocol on three strategic initiatives: Scale L1, Scale blobs, Improve UX. Following previous updates on Scale L1 and Scale blobs, this note relates to our “Improve UX” track, and its mission:  **Seamless, secure and permissionless experience across the Ethereum...\n"
     ]
    },
    {
     "name": "stderr",
     "output_type": "stream",
     "text": [
      "2025-09-01 22:19:05,493 - INFO - HTTP Request: POST https://api.anthropic.com/v1/messages \"HTTP/1.1 200 OK\"\n"
     ]
    },
    {
     "name": "stdout",
     "output_type": "stream",
     "text": [
      "<h3>Most profitable SushiSwap liquidity pool ArbiFLUX-ETH — 162.44% APY</h3><blockquote>Transaction-incentivized Liquidity Pools (Monetary Velocity). Decentralizing inflation. On Arbitrum.</blockquote><p>Just a month after launch, <a href=\"https://analytics-arbitrum.sushi.com/tokens/0x64081252c497fcfec247a664e9d10ca8ed71b276\"><strong>ArbiFLUX-ETH</strong></a> has become the most profitable <em>APY</em> pool on <strong>SushiSwap</strong> (Arbitrum Layer). 🎉</p><figure><img alt=\"\" src=\"https://cdn-images-1.medium.com/max/1024/1*d8zq50iv-YSY7lIC90uxrw.png\" /></figure><p>So far there have been 1,222 ArbiFLUX ‘high monetary velocity’ transfers. This throughput involves the ArbiFLUX/ETH and ArbiFLUX/FLUX liquidity pools on SushiSwap, which means amazing rewards (162% APY) for Liquidity Providers.</p><p>Also, 60% of the total ArbiFLUX supply has been burned by the community to counteract inflation using ArbiFLUX purchased from these pools. The market cap of ArbiFLUX just reached $20,000 USD, which is backed by $340,000 USD of L2 FLUX powering user-controlled ArbiFLUX Mints.</p><figure><img alt=\"\" src=\"https://cdn-images-1.medium.com/max/1024/1*Hpjzg9rmcriv7rp-jUnZcg.png\" /></figure><p><strong>ArbiFLUX</strong> is a <strong>v2 currency</strong> that retains value while fulfilling the following criteria: transportability, utility, divisibility, scarcity, and durability.</p><p>Visit <a href=\"https://datamine-crypto.github.io/datamine-pro-portal/#/dashboard\">datamine.network</a> to start your own ArbiFLUX Mint.</p><p><strong>ArbiFLUX price tracker</strong>:</p><p><a href=\"https://www.defined.fi/arb/0xbf719d56c5f19ae0833adc4080befc48a9b415b5\">ArbiFLUX/WETH | $24.9273 | Defined</a></p><p><strong>Join Datamine in Discord</strong>:</p><p><a href=\"https://discord.me/dataminenetwork\">Datamine Network Discord Server</a></p><img alt=\"\" height=\"1\" src=\"https://medium.com/_/stat?event=post.clientViewed&amp;referrerSource=full_rss&amp;postId=8b717e5e7b2d\" width=\"1\" />\n"
     ]
    },
    {
     "name": "stderr",
     "output_type": "stream",
     "text": [
      "2025-09-01 22:19:33,315 - INFO - HTTP Request: POST https://api.anthropic.com/v1/messages \"HTTP/1.1 200 OK\"\n"
     ]
    },
    {
     "name": "stdout",
     "output_type": "stream",
     "text": [
      "<p><strong>Binance</strong> has completed the integration of Arbitrum One Layer 2 Mainnet, a scaling solution for the Ethereum network (that has lower costs and faster transactions than on the Ethereum Mainnet).</p><figure><img alt=\"\" src=\"https://cdn-images-1.medium.com/max/1024/0*UHtKCPCG6ja2IE5i.jpg\" /></figure><p>This move will allow projects like <a href=\"https://datamine-crypto.github.io/datamine-pro-portal/#/dashboard\"><strong>datamine.network</strong></a> to take full advantage of lower gas fees and instant transactions.</p><p><strong>$DAM</strong> price has already doubled from $0.10 to $0.21</p><ul><li>$FLUX (L1) has increased from $0.62 to $1.08</li><li>$FLUX (L2) has increased from $0.70 to $0.90</li><li>Newly launched ArbiFLUX is trading from $50 — $160 (pretty volatile due to low liquidity)</li></ul><p>All time high DAM Powering Mints (80.38%): $ 2,911,954 USD is locked on L1 to generate FLUX.</p><ul><li>Total DAM supply is 16,876,778; only 3,310,515 tokens in circulation.</li></ul><p>369,588.28 FLUX / $ 334,169.55 USDC (92.54% of L2 supply) is locked on L2, to generate ArbiFLUX.</p><p>Current APY:</p><ul><li>L1 layer (Ethereum): 30%</li><li>L2 layer (Arbitrum): 700% (should normalize as more ArbiFLUX is minted).</li></ul><p>Until next time.</p><img alt=\"\" height=\"1\" src=\"https://medium.com/_/stat?event=post.clientViewed&amp;referrerSource=full_rss&amp;postId=a2998644367c\" width=\"1\" />\n"
     ]
    },
    {
     "name": "stderr",
     "output_type": "stream",
     "text": [
      "2025-09-01 22:19:58,640 - INFO - HTTP Request: POST https://api.anthropic.com/v1/messages \"HTTP/1.1 200 OK\"\n"
     ]
    }
   ],
   "source": [
    "from dotenv import load_dotenv\n",
    "import os\n",
    "import anthropic\n",
    "\n",
    "load_dotenv()\n",
    "\n",
    "# Claude Related Variables\n",
    "api_key = os.getenv('ANTHROPIC_API_KEY')\n",
    "model = os.getenv('ANTHROPIC_MODEL')\n",
    "\n",
    "# Email Related Variables\n",
    "email_user = os.getenv('EMAIL_USER')\n",
    "\n",
    "\n",
    "client = anthropic.Anthropic()\n",
    "\n",
    "for a in articles:\n",
    "    summary = a.get('summary', None)\n",
    "\n",
    "    print(summary)\n",
    "    \n",
    "    if summary:\n",
    "        message = client.messages.create(\n",
    "            model=model,\n",
    "            max_tokens=1000,\n",
    "            messages=[\n",
    "                {\n",
    "                    \"role\": \"user\",\n",
    "                    \"content\": f\"As a research agency experienced in user research can you take the content of this article and generate a proposal idea to perform user research?: {summary}\"\n",
    "                }\n",
    "            ]\n",
    "        )\n",
    "    \n",
    "        a['summary'] = message.content[0].text\n",
    "\n",
    "    else:\n",
    "        print(\"No content in article!\")\n"
   ]
  },
  {
   "cell_type": "markdown",
   "id": "0718ab0c-3a59-4c9b-9af8-18cdb26d3630",
   "metadata": {},
   "source": [
    "# Generate Report for Proposal Ideation"
   ]
  },
  {
   "cell_type": "code",
   "execution_count": 12,
   "id": "2e8435ba-3d1c-48ab-a44c-df726b4cf6bc",
   "metadata": {},
   "outputs": [
    {
     "name": "stdout",
     "output_type": "stream",
     "text": [
      "\n",
      "✅ PDF report generated successfully!\n",
      "📄 Report saved as: web3_news_report_20250901_222023.pdf\n",
      "📊 Total articles in report: 4\n",
      "\n",
      "📋 Report Summary:\n",
      "  • Ethereum Blog: 2 articles\n",
      "  • Arbitrum Medium: 2 articles\n",
      "PDF saved to: web3_news_report_20250901_222023.pdf\n"
     ]
    }
   ],
   "source": [
    "import json\n",
    "from pdf_generator import generate_enhanced_news_pdf\n",
    "\n",
    "# Import Article Test Data\n",
    "# with open('articles_test.json', 'r') as file:\n",
    "#     articles = json.load(file)\n",
    "\n",
    "# Import and generate PDF report\n",
    "if 'articles' in locals() and articles:\n",
    "    pdf_path = generate_enhanced_news_pdf(articles)\n",
    "    print(f\"PDF saved to: {pdf_path}\")\n",
    "else:\n",
    "    print(\"No articles found. Please run the scraper first.\")"
   ]
  },
  {
   "cell_type": "markdown",
   "id": "eabbf2fa-2643-42a5-8db2-1e0c14d88b51",
   "metadata": {},
   "source": [
    "# Send PDF in email to recipients"
   ]
  },
  {
   "cell_type": "code",
   "execution_count": 13,
   "id": "4019dee5-2bce-4685-8e33-ced2ba424a2c",
   "metadata": {},
   "outputs": [
    {
     "name": "stdout",
     "output_type": "stream",
     "text": [
      "✅ Email sent successfully to krclyne@gmail.com\n",
      "Email sent successfully!\n"
     ]
    }
   ],
   "source": [
    "from email_sender import EmailSender\n",
    "\n",
    "sender = EmailSender()\n",
    "email_user = 'krclyne@gmail.com'\n",
    "\n",
    "# Send a simple text email with PDF attachment\n",
    "success = sender.send_simple_email(\n",
    "    to=email_user,\n",
    "    subject=\"Test Email with PDF\",\n",
    "    message=\"Hello! Please find the attached PDF.\",\n",
    "    attachments=pdf_path\n",
    ")\n",
    "\n",
    "if success:\n",
    "    print(\"Email sent successfully!\")\n",
    "else:\n",
    "    print(\"Failed to send email.\")"
   ]
  }
 ],
 "metadata": {
  "kernelspec": {
   "display_name": "News Scraper",
   "language": "python",
   "name": "news_scraper_env"
  },
  "language_info": {
   "codemirror_mode": {
    "name": "ipython",
    "version": 3
   },
   "file_extension": ".py",
   "mimetype": "text/x-python",
   "name": "python",
   "nbconvert_exporter": "python",
   "pygments_lexer": "ipython3",
   "version": "3.12.11"
  }
 },
 "nbformat": 4,
 "nbformat_minor": 5
}
